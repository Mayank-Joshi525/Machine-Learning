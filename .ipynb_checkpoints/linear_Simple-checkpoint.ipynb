{
 "cells": [
  {
   "cell_type": "code",
   "execution_count": 6,
   "id": "44ad389e",
   "metadata": {},
   "outputs": [],
   "source": [
    "data = [(1, 8), (2, 16), (3, 24), (4, 36), (5, 40)]\n"
   ]
  },
  {
   "cell_type": "code",
   "execution_count": 7,
   "id": "da934188",
   "metadata": {},
   "outputs": [],
   "source": [
    "sum_x = 0\n",
    "sum_y = 0\n",
    "sum_xy = 0\n",
    "sum_x_squared = 0"
   ]
  },
  {
   "cell_type": "code",
   "execution_count": 8,
   "id": "acfe9340",
   "metadata": {},
   "outputs": [],
   "source": [
    "for x, y in data:\n",
    "    sum_x += x\n",
    "    sum_y += y\n",
    "    sum_xy += x * y\n",
    "    sum_x_squared += x ** 2"
   ]
  },
  {
   "cell_type": "code",
   "execution_count": 9,
   "id": "8c59c4c5",
   "metadata": {},
   "outputs": [],
   "source": [
    "n = len(data)\n",
    "slope = (n * sum_xy - sum_x * sum_y) / (n * sum_x_squared - sum_x ** 2)\n",
    "intercept = (sum_y - slope * sum_x) / n"
   ]
  },
  {
   "cell_type": "code",
   "execution_count": 10,
   "id": "8bc3f23b",
   "metadata": {},
   "outputs": [
    {
     "name": "stdout",
     "output_type": "stream",
     "text": [
      "Equation of the line: y = 8.40x + -0.40\n"
     ]
    }
   ],
   "source": [
    "print(f\"Equation of the line: y = {slope:.2f}x + {intercept:.2f}\")\n"
   ]
  },
  {
   "cell_type": "code",
   "execution_count": null,
   "id": "a9dcd0d7",
   "metadata": {},
   "outputs": [],
   "source": []
  }
 ],
 "metadata": {
  "kernelspec": {
   "display_name": "Python 3 (ipykernel)",
   "language": "python",
   "name": "python3"
  },
  "language_info": {
   "codemirror_mode": {
    "name": "ipython",
    "version": 3
   },
   "file_extension": ".py",
   "mimetype": "text/x-python",
   "name": "python",
   "nbconvert_exporter": "python",
   "pygments_lexer": "ipython3",
   "version": "3.10.8"
  }
 },
 "nbformat": 4,
 "nbformat_minor": 5
}
